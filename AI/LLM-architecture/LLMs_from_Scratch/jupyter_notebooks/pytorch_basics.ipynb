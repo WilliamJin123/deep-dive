{
 "cells": [
  {
   "cell_type": "code",
   "execution_count": 8,
   "id": "40e593c4-2006-43e1-a8fa-1ed98dd50128",
   "metadata": {},
   "outputs": [
    {
     "name": "stdout",
     "output_type": "stream",
     "text": [
      "True\n"
     ]
    }
   ],
   "source": [
    "import torch\n",
    "print(torch.cuda.is_available())"
   ]
  },
  {
   "cell_type": "code",
   "execution_count": 13,
   "id": "876b8c0d-5d21-4c28-ba7b-752b50ed7d99",
   "metadata": {},
   "outputs": [
    {
     "name": "stdout",
     "output_type": "stream",
     "text": [
      "torch.Size([2, 2])\n",
      "<built-in method type of Tensor object at 0x00000164DBC18F00>\n",
      "torch.float64\n",
      "tensor([[34, 38],\n",
      "        [50, 56]])\n"
     ]
    }
   ],
   "source": [
    "\n",
    "tensor1 = torch.tensor([[1, 2], \n",
    "                          [3, 4]])\n",
    "tensor2 = torch.tensor([[7, 8], \n",
    "                          [9, 10]])\n",
    "print(tensor1.shape)\n",
    "\n",
    "floattensor1 = tensor1.to(torch.float64)\n",
    "print(floattensor1.type)\n",
    "print(floattensor1.dtype)\n",
    "\n",
    "multiTensor = tensor1.T.matmul(tensor2)\n",
    "print(multiTensor)"
   ]
  },
  {
   "cell_type": "code",
   "execution_count": 16,
   "id": "294e5707-1e7e-477c-bd34-a68b6f8faad4",
   "metadata": {},
   "outputs": [
    {
     "name": "stdout",
     "output_type": "stream",
     "text": [
      "(tensor([-0.0898]),)\n",
      "(tensor([-0.0817]),)\n"
     ]
    }
   ],
   "source": [
    "import torch.nn.functional as F\n",
    "from torch.autograd import grad\n",
    "\n",
    "y = torch.tensor([1.0])\n",
    "x1 = torch.tensor([1.1])\n",
    "w1 = torch.tensor([2.2], requires_grad=True)\n",
    "b = torch.tensor([0.0], requires_grad = True)\n",
    "\n",
    "z = x1 * w1 + b\n",
    "a = torch.sigmoid(z)\n",
    "\n",
    "loss = F.binary_cross_entropy(a, y)\n",
    "\n",
    "grad_L_w1 = grad(loss, w1, retain_graph=True)\n",
    "grad_L_b = grad(loss, b, retain_graph=True)\n",
    "\n",
    "print(grad_L_w1)\n",
    "print(grad_L_b)\n"
   ]
  },
  {
   "cell_type": "code",
   "execution_count": 17,
   "id": "b7c1b995-1b34-4ade-81e6-470b0477cf1e",
   "metadata": {},
   "outputs": [
    {
     "ename": "NameError",
     "evalue": "name 'tokenizer' is not defined",
     "output_type": "error",
     "traceback": [
      "\u001b[31m---------------------------------------------------------------------------\u001b[39m",
      "\u001b[31mNameError\u001b[39m                                 Traceback (most recent call last)",
      "\u001b[36mCell\u001b[39m\u001b[36m \u001b[39m\u001b[32mIn[17]\u001b[39m\u001b[32m, line 3\u001b[39m\n\u001b[32m      1\u001b[39m \u001b[38;5;28;01mwith\u001b[39;00m \u001b[38;5;28mopen\u001b[39m(\u001b[33m\"\u001b[39m\u001b[33mthe-verdict.txt\u001b[39m\u001b[33m\"\u001b[39m, \u001b[33m\"\u001b[39m\u001b[33mr\u001b[39m\u001b[33m\"\u001b[39m, encoding=\u001b[33m\"\u001b[39m\u001b[33mutf-8\u001b[39m\u001b[33m\"\u001b[39m) \u001b[38;5;28;01mas\u001b[39;00m f:\n\u001b[32m      2\u001b[39m     raw_text = f.read()\n\u001b[32m----> \u001b[39m\u001b[32m3\u001b[39m enc_text = \u001b[43mtokenizer\u001b[49m.encode(raw_text)\n\u001b[32m      4\u001b[39m \u001b[38;5;28mlen\u001b[39m(enc_text)\n",
      "\u001b[31mNameError\u001b[39m: name 'tokenizer' is not defined"
     ]
    }
   ],
   "source": []
  }
 ],
 "metadata": {
  "kernelspec": {
   "display_name": "Python 3 (ipykernel)",
   "language": "python",
   "name": "python3"
  },
  "language_info": {
   "codemirror_mode": {
    "name": "ipython",
    "version": 3
   },
   "file_extension": ".py",
   "mimetype": "text/x-python",
   "name": "python",
   "nbconvert_exporter": "python",
   "pygments_lexer": "ipython3",
   "version": "3.13.5"
  }
 },
 "nbformat": 4,
 "nbformat_minor": 5
}
